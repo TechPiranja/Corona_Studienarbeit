{
 "cells": [
  {
   "cell_type": "code",
   "execution_count": 12,
   "metadata": {},
   "outputs": [],
   "source": [
    "import pandas as pd\n",
    "import json\n",
    "import requests\n",
    "import matplotlib.pyplot as plt \n",
    "import seaborn"
   ]
  },
  {
   "cell_type": "code",
   "execution_count": 13,
   "metadata": {
    "tags": []
   },
   "outputs": [
    {
     "output_type": "stream",
     "name": "stdout",
     "text": "Afghanistan 34740\nAlbania 3667\nAlgeria 20216\nAndorra 861\nAngola 541\nAntigua and Barbuda 74\nArgentina 106910\nArmenia 32490\nAustralia 10487\nAustria 19021\nAzerbaijan 25113\nBahamas 116\nBahrain 34078\nBangladesh 190057\nBarbados 103\nBelarus 65269\nBelgium 62781\nBelize 39\nBenin 1378\nBhutan 84\nBolivia 50867\nBosnia and Herzegovina 6981\nBotswana 399\nBrazil 1926824\nBrunei Darussalam 141\nBulgaria 7645\nBurkina Faso 1037\nBurundi 269\nCambodia 165\nCameroon 15173\nCanada 0\nCape Verde 1722\nCentral African Republic 4356\nChad 884\nChile 319493\nChina 85226\nColombia 154277\nComoros 321\nCongo (Brazzaville) 2028\nCongo (Kinshasa) 8135\nCosta Rica 8482\nCroatia 3827\nCuba 2432\nCyprus 1023\nCzech Republic 13341\nCôte d'Ivoire 13037\nDenmark 13262\nDjibouti 4979\nDominica 18\nDominican Republic 46305\nEcuador 69570\nEgypt 83930\nEl Salvador 10303\nEquatorial Guinea 3071\nEritrea 232\nEstonia 2015\nEthiopia 7969\nFiji 26\nFinland 7301\nFrance 209640\nGabon 6026\nGambia 64\nGeorgia 999\nGermany 200456\nGhana 24988\nGreece 3883\nGrenada 23\nGuatemala 30872\nGuinea 6200\nGuinea-Bissau 1842\nGuyana 308\nHaiti 6727\nHoly See (Vatican City State) 12\nHonduras 28579\nHungary 4258\nIceland 1905\nIndia 936181\nIndonesia 78572\nIran, Islamic Republic of 262173\nIraq 81757\nIreland 25670\nIsrael 42360\nItaly 243344\nJamaica 762\nJapan 22437\nJordan 1198\nKazakhstan 63514\nKenya 10791\nKorea (South) 13551\nKuwait 56174\nKyrgyzstan 11444\nLao PDR 19\nLatvia 1174\nLebanon 2451\nLesotho 256\nLiberia 1024\nLibya 1563\nLiechtenstein 84\nLithuania 1875\nLuxembourg 5056\nMacedonia, Republic of 8332\nMadagascar 5343\nMalawi 2497\nMalaysia 8729\nMaldives 2801\nMali 2423\nMalta 674\nMauritania 5518\nMauritius 342\nMexico 311486\nMoldova 19708\nMonaco 109\nMongolia 261\nMontenegro 1287\nMorocco 16097\nMozambique 1268\nMyanmar 337\nNamibia 864\nNepal 17061\nNetherlands 51362\nNew Zealand 1547\nNicaragua 3147\nNiger 1099\nNigeria 33616\nNorway 9001\nOman 59568\nPakistan 255769\nPalestinian Territory 6764\nPanama 48096\nPapua New Guinea 11\nParaguay 3074\nPeru 333867\nPhilippines 57545\nPoland 38457\nPortugal 47051\nQatar 104533\nRepublic of Kosovo 5118\nRomania 33585\nRussian Federation 738787\nRwanda 1416\nSaint Kitts and Nevis 17\nSaint Lucia 22\nSaint Vincent and Grenadines 35\nSan Marino 699\nSao Tome and Principe 732\nSaudi Arabia 237803\nSenegal 8243\nSerbia 18983\nSeychelles 100\nSierra Leone 1651\nSingapore 46630\nSlovakia 1908\nSlovenia 1859\nSomalia 3076\nSouth Africa 298292\nSouth Sudan 2148\nSpain 256619\nSri Lanka 2665\nSudan 10417\nSuriname 801\nSwaziland 1434\nSweden 76001\nSwitzerland 33016\nSyrian Arab Republic (Syria) 439\nTaiwan, Republic of China 451\nTajikistan 6643\nTanzania, United Republic of 509\nThailand 3227\nTimor-Leste 24\nTogo 731\nTrinidad and Tobago 133\nTunisia 1306\nTurkey 214993\nUganda 1040\nUkraine 55931\nUnited Arab Emirates 55573\nUnited Kingdom 292931\nUnited States of America 3431574\nUruguay 997\nUzbekistan 14085\nVenezuela (Bolivarian Republic) 10010\nViet Nam 373\nWestern Sahara 10\nYemen 1516\nZambia 1895\nZimbabwe 1064\n"
    }
   ],
   "source": [
    "url = \"https://api.covid19api.com/summary\"\n",
    "json = requests.get(url).json()\n",
    "\n",
    "for countries in json[\"Countries\"]:\n",
    "    print(countries[\"Country\"] + \" \" + str(countries[\"TotalConfirmed\"]))"
   ]
  },
  {
   "cell_type": "code",
   "execution_count": null,
   "metadata": {},
   "outputs": [],
   "source": []
  }
 ],
 "metadata": {
  "kernelspec": {
   "display_name": "Python 3",
   "language": "python",
   "name": "python3"
  },
  "language_info": {
   "codemirror_mode": {
    "name": "ipython",
    "version": 3
   },
   "file_extension": ".py",
   "mimetype": "text/x-python",
   "name": "python",
   "nbconvert_exporter": "python",
   "pygments_lexer": "ipython3",
   "version": "3.7.6"
  }
 },
 "nbformat": 4,
 "nbformat_minor": 2
}